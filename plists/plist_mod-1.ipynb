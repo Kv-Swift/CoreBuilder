{
 "cells": [
  {
   "cell_type": "code",
   "execution_count": 17,
   "metadata": {},
   "outputs": [],
   "source": [
    "from plistlib import dumps, loads, FMT_BINARY\n",
    "import plistlib\n"
   ]
  },
  {
   "cell_type": "code",
   "execution_count": 18,
   "metadata": {},
   "outputs": [],
   "source": [
    "plist_path = \"/Users/codebuilder/Documents/GitHub/CoreBuilder/plists/python311.plist\""
   ]
  },
  {
   "cell_type": "code",
   "execution_count": 19,
   "metadata": {},
   "outputs": [],
   "source": [
    "with open(plist_path, \"rb\") as fp:\n",
    "    plist_data = plistlib.load(fp)"
   ]
  },
  {
   "cell_type": "code",
   "execution_count": 20,
   "metadata": {},
   "outputs": [],
   "source": [
    "# 'HeadersPath': 'python3.11'\n",
    "for lib in plist_data[\"AvailableLibraries\"]:\n",
    "    lib[\"HeadersPath\"] = \"abc\""
   ]
  },
  {
   "cell_type": "code",
   "execution_count": 21,
   "metadata": {},
   "outputs": [
    {
     "data": {
      "text/plain": [
       "{'AvailableLibraries': [{'HeadersPath': 'abc',\n",
       "   'BinaryPath': 'libpython3.11.a',\n",
       "   'LibraryIdentifier': 'ios-x86_64-simulator',\n",
       "   'LibraryPath': 'libpython3.11.a',\n",
       "   'SupportedArchitectures': ['x86_64'],\n",
       "   'SupportedPlatform': 'ios',\n",
       "   'SupportedPlatformVariant': 'simulator'},\n",
       "  {'HeadersPath': 'abc',\n",
       "   'BinaryPath': 'libpython3.11.a',\n",
       "   'LibraryIdentifier': 'ios-arm64',\n",
       "   'LibraryPath': 'libpython3.11.a',\n",
       "   'SupportedArchitectures': ['arm64'],\n",
       "   'SupportedPlatform': 'ios'}],\n",
       " 'CFBundlePackageType': 'XFWK',\n",
       " 'XCFrameworkFormatVersion': '1.0'}"
      ]
     },
     "execution_count": 21,
     "metadata": {},
     "output_type": "execute_result"
    }
   ],
   "source": [
    "plist_data"
   ]
  }
 ],
 "metadata": {
  "kernelspec": {
   "display_name": "Python 3",
   "language": "python",
   "name": "python3"
  },
  "language_info": {
   "codemirror_mode": {
    "name": "ipython",
    "version": 3
   },
   "file_extension": ".py",
   "mimetype": "text/x-python",
   "name": "python",
   "nbconvert_exporter": "python",
   "pygments_lexer": "ipython3",
   "version": "3.11.6"
  }
 },
 "nbformat": 4,
 "nbformat_minor": 2
}
